{
 "cells": [
  {
   "cell_type": "markdown",
   "id": "99dd104c",
   "metadata": {},
   "source": [
    "# Neural Encoding and Decoding:\n",
    "## 1. Firing rates and spikes statistics\n",
    "\n",
    "Neurons are remarkable among the cells of the body in their ability to propagate signals rapidly over large distances. \n",
    "They do this by generating characteristic electrical pulses called action potentials or, more simply,spikes that can travel down nerve fibers. \n",
    "Neurons represent and transmit information by firing sequences of spikes in various temporal patterns.\n",
    "\n",
    "The study of neural coding involves measuring and characterizing how stimulus attributes, such as light or sound intensity, or motor actions, such as the direction of an arm movement, are represented by action potentials.\n",
    "\n",
    "The link between stimulus and response can be studied from two points of view:\n",
    "\n",
    "**- Neural encoding:** The map from stimulus to response, we can study how neurons respond to a wide variety of stumuli and then construct models that attempt to predict responses to other stimuli.\n",
    "\n",
    "**- Neural decoding:** It refers to the reverse map, from response to stimulus, and the challenge is to reconstruct a stimulus, or certain aspects of that stimulus, from the spike sequences it evokes.\n",
    "\n",
    "### 1.2. General properties of neurons:\n",
    "Neurons are highly specialized for generating electrical signals in response to chemical and other inputs, and transmitting them to other cells. The **dendrites** that receive inputs from other neurons (depending on the type up to **10000** connections) and the **axon** that carries the neuronal output to other cells (they can traverse large fractions of the brain or, in some cases, of the **entire body**).\n",
    "\n",
    "- **Ion channels**: \n",
    "\n",
    "Physiological specializations allow ions, predominantly sodium, potassium, calcium, and chloride to move into and out of the cell. Ion channels control the flow of ions across the cell membrane in response to voltage changes.\n",
    "\n",
    "- **Membrane potential**: \n",
    "\n",
    "The electrical signal of relevance to the nervous system is the difference in electrical potential between the interior of a neuron and the surrounding extracellular medium. Under resting conditions, the potential inside the cell membrane of a neuron is about **-70 mV** relative to that of the surrounding bath **0 mV** and the cell membrane is said to be polarized.\n",
    "\n",
    "- **Hyperpolaritazion**:\n",
    "\n",
    "Current in the form of positively charged ions flowing out of the cell (or negatively charged ions flowing into the cell) through open channels makes the **membrane potential more negative**.\n",
    "\n",
    "- **Depolaritazion**:\n",
    "\n",
    "Current flowing into changes the **membrane potential to less negative or even positive values**.\n",
    "\n",
    "- **Action potential**:\n",
    "\n",
    "If a neuron is depolarized sufficiently to raise the membrane potential above a threshold level,\n",
    "a positive feedback process is initiated, and the\n",
    "action potential neuron generates an action potential. An action potential is a roughly **100\n",
    "mV** fluctuation in the electrical potential across the cell membrane that\n",
    "lasts for about **1 ms**. Action potential generation also depends\n",
    "on the recent history of cell firing. For a few milliseconds just after an\n",
    "action potential has been fired, it may be virtually impossible to initiate\n",
    "another spike (**refractory period**). \n"
   ]
  },
  {
   "cell_type": "code",
   "execution_count": 1,
   "id": "d6191082",
   "metadata": {},
   "outputs": [
    {
     "data": {
      "text/html": [
       "<img src=\"Images/membrane.png\" width=\"700\" height=\"700\"/>"
      ],
      "text/plain": [
       "<IPython.core.display.Image object>"
      ]
     },
     "execution_count": 1,
     "metadata": {},
     "output_type": "execute_result"
    }
   ],
   "source": [
    "from IPython.display import Image\n",
    "url = 'Images/membrane.png'\n",
    "Image(url = url, width=700, height=700)"
   ]
  },
  {
   "cell_type": "code",
   "execution_count": null,
   "id": "8ec44f4a",
   "metadata": {},
   "outputs": [],
   "source": []
  }
 ],
 "metadata": {
  "kernelspec": {
   "display_name": "Python 3 (ipykernel)",
   "language": "python",
   "name": "python3"
  },
  "language_info": {
   "codemirror_mode": {
    "name": "ipython",
    "version": 3
   },
   "file_extension": ".py",
   "mimetype": "text/x-python",
   "name": "python",
   "nbconvert_exporter": "python",
   "pygments_lexer": "ipython3",
   "version": "3.9.12"
  }
 },
 "nbformat": 4,
 "nbformat_minor": 5
}
